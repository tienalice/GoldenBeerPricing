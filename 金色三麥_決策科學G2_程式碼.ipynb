{
  "nbformat": 4,
  "nbformat_minor": 0,
  "metadata": {
    "colab": {
      "provenance": []
    },
    "kernelspec": {
      "name": "python3",
      "display_name": "Python 3"
    },
    "language_info": {
      "name": "python"
    }
  },
  "cells": [
    {
      "cell_type": "markdown",
      "source": [
        "## Import modular"
      ],
      "metadata": {
        "id": "3kHj1T6VGG5l"
      }
    },
    {
      "cell_type": "code",
      "source": [
        "import numpy as np\n",
        "import pandas as pd\n",
        "import matplotlib.pyplot as plt"
      ],
      "metadata": {
        "id": "GrFYt8TCGRc3"
      },
      "execution_count": null,
      "outputs": []
    },
    {
      "cell_type": "markdown",
      "source": [
        "## Parameters\n",
        "\n"
      ],
      "metadata": {
        "id": "lsQCupS1GS6I"
      }
    },
    {
      "cell_type": "code",
      "source": [
        "# Set random seed for reproducibility\n",
        "np.random.seed(2025)\n",
        "\n",
        "# Parameters\n",
        "num_beers = 20  # 20 types of beers\n",
        "initial_price_per_ml = 150 / 500  # Price per ml (0.3 NTD/ml)\n",
        "operation_hours = 13  # 11:00 to 00:00 (13 hours)\n",
        "time_intervals = 26  # 30-minute intervals (13*2)\n",
        "price_increase_rate = 0.005  # 0.5% price increase per 500 ml sold\n",
        "price_decrease_rate = 0.04  # 4% price decrease if no sales\n",
        "upper_limit = 1.2  # 120% of initial price\n",
        "lower_limit = 0.5  # 50% of initial price\n",
        "num_simulations = 1000  # Number of simulations for a week\n",
        "ml_per_unit = 500  # Price adjustment threshold (500 ml)\n",
        "\n",
        "# Classify beers into popular and non-popular ####不要是50 50\n",
        "popular_beers = np.random.choice(num_beers, size=num_beers // 2, replace=False)\n",
        "non_popular_beers = np.setdiff1d(np.arange(num_beers), popular_beers)\n",
        "\n",
        "# Customer types\n",
        "customer_types = [\"loyal\", \"price_high\", \"price_low\"]\n",
        "\n",
        "# Time slot definitions\n",
        "time_slots = {\n",
        "    'lunch': list(range(0, 6)),  # 11:00-14:00\n",
        "    'tea': list(range(6, 12)),   # 14:00-17:00\n",
        "    'dinner': list(range(12, 18)),  # 17:00-20:00\n",
        "    'night': list(range(18, 26))  # 20:00-24:00\n",
        "}\n",
        "\n",
        "# Time multipliers for demand\n",
        "time_slot_multipliers = {\n",
        "    'lunch': 1.2,\n",
        "    'tea': 0.8,\n",
        "    'dinner': 1.5,\n",
        "    'night': 1.8\n",
        "}"
      ],
      "metadata": {
        "id": "vcWGtv6SGdtB"
      },
      "execution_count": null,
      "outputs": []
    },
    {
      "cell_type": "markdown",
      "source": [
        "## Simulate customer type"
      ],
      "metadata": {
        "id": "ou6HKX1nGl8U"
      }
    },
    {
      "cell_type": "code",
      "source": [
        "def simulate_customer_type():\n",
        "    return np.random.choice(customer_types, p=[0.4, 0.3, 0.3])"
      ],
      "metadata": {
        "id": "MsDD8UQCGwS4"
      },
      "execution_count": null,
      "outputs": []
    },
    {
      "cell_type": "markdown",
      "source": [
        "## Simulate demand"
      ],
      "metadata": {
        "id": "2oqpHv6LGyVW"
      }
    },
    {
      "cell_type": "code",
      "source": [
        "def get_current_time_slot(interval):\n",
        "    for slot, intervals in time_slots.items():\n",
        "        if interval in intervals:\n",
        "            return slot\n",
        "    return 'night'\n",
        "\n",
        "def simulate_demand(interval, day):\n",
        "    base_demand = np.random.randint(5, 80)  # 提高最低需求，避免完全無顧客\n",
        "\n",
        "    busy_days = [5, 6, np.random.randint(0, 5)]  # 週末或隨機天為繁忙日\n",
        "    day_multiplier = 1.5 if day in busy_days else 1.0\n",
        "\n",
        "    time_slot = get_current_time_slot(interval)\n",
        "    time_multiplier = time_slot_multipliers[time_slot]\n",
        "\n",
        "    # 讓需求帶有波動但不至於過低\n",
        "    noise = np.random.normal(1, 0.2)  # 加入波動噪聲\n",
        "\n",
        "    return max(1, int(base_demand * day_multiplier * time_multiplier * noise))  # 保證最低一位顧客"
      ],
      "metadata": {
        "id": "q69fjIimG1Jm"
      },
      "execution_count": null,
      "outputs": []
    },
    {
      "cell_type": "markdown",
      "source": [
        "## Simulate volume"
      ],
      "metadata": {
        "id": "WXNMm_TSG3qI"
      }
    },
    {
      "cell_type": "code",
      "source": [
        "def simulate_volume():\n",
        "    return np.random.randint(250, 1000)  # Each customer buys 250-1000 ml"
      ],
      "metadata": {
        "id": "N6o8k6HxG60V"
      },
      "execution_count": null,
      "outputs": []
    },
    {
      "cell_type": "markdown",
      "source": [
        "## Simulate beer choice based on type and price"
      ],
      "metadata": {
        "id": "RaS5Zi9tG_YW"
      }
    },
    {
      "cell_type": "code",
      "source": [
        "def simulate_beer_choice(prices, customer_type):\n",
        "    if customer_type == \"loyal\":\n",
        "        return np.random.choice(popular_beers)\n",
        "    elif customer_type == \"price_high\":\n",
        "        probabilities = np.exp(-prices * 0.1) / np.sum(np.exp(-prices * 0.1))  # 減少高價懲罰\n",
        "    else:\n",
        "        probabilities = np.exp(-prices * 0.4) / np.sum(np.exp(-prices * 0.4))  # 降低對價格低的偏好\n",
        "\n",
        "    return np.random.choice(np.arange(num_beers), p=probabilities)\n",
        "\n",
        "def update_popularity(total_sales_volume):\n",
        "    global popular_beers, non_popular_beers\n",
        "\n",
        "    # 如果總銷量為 0，均勻分配概率\n",
        "    if total_sales_volume.sum() == 0:\n",
        "        total_sales_probabilities = np.full(num_beers, 1 / num_beers)\n",
        "    else:\n",
        "        # Normalize sales volume to probabilities\n",
        "        total_sales_probabilities = total_sales_volume / total_sales_volume.sum()\n",
        "\n",
        "    # Select 5 popular beers based on probabilities\n",
        "    popular_beers = np.random.choice(\n",
        "        np.arange(num_beers),\n",
        "        size=5,\n",
        "        replace=False,\n",
        "        p=total_sales_probabilities\n",
        "    )\n",
        "\n",
        "    # Update non-popular beers\n",
        "    non_popular_beers = np.setdiff1d(np.arange(num_beers), popular_beers)"
      ],
      "metadata": {
        "id": "utQOCkZeHFdx"
      },
      "execution_count": null,
      "outputs": []
    },
    {
      "cell_type": "markdown",
      "source": [
        "## Simulation function"
      ],
      "metadata": {
        "id": "fOuEVkL8HHTb"
      }
    },
    {
      "cell_type": "code",
      "source": [
        "def run_simulation(dynamic_pricing=True):\n",
        "    total_revenue_by_day_and_timeslot = np.zeros((7, 26))  # 7 days, 26 intervals (13*2)\n",
        "    total_revenue = 0\n",
        "    beer_prices = np.full(num_beers, initial_price_per_ml)\n",
        "    price_history = []\n",
        "    total_sales_volume = np.zeros(num_beers)\n",
        "\n",
        "    for day in range(7):\n",
        "        # 每週開始前重設熱門啤酒\n",
        "        if day == 0:\n",
        "            update_popularity(total_sales_volume)\n",
        "\n",
        "        daily_sales = np.zeros(num_beers)  # 初始化 daily_sales 為 0\n",
        "\n",
        "        for interval in range(time_intervals):\n",
        "            total_sales = np.zeros(num_beers)\n",
        "            num_customers = simulate_demand(interval, day)\n",
        "\n",
        "            for _ in range(num_customers):\n",
        "                customer_type = simulate_customer_type()\n",
        "                beer_idx = simulate_beer_choice(beer_prices, customer_type)\n",
        "                volume = simulate_volume()\n",
        "\n",
        "                total_sales[beer_idx] += volume\n",
        "                total_sales_volume[beer_idx] += volume\n",
        "                total_revenue += volume * beer_prices[beer_idx]\n",
        "\n",
        "                total_revenue_by_day_and_timeslot[day, interval] += volume * beer_prices[beer_idx]\n",
        "\n",
        "            # 每30分鐘即時更新價格\n",
        "            if dynamic_pricing:\n",
        "                for i in range(num_beers):\n",
        "                    if total_sales[i] >= ml_per_unit:\n",
        "                        beer_prices[i] *= (1 + price_increase_rate * (total_sales[i] / ml_per_unit))\n",
        "                    elif total_sales[i] == 0:\n",
        "                        beer_prices[i] *= (1 - price_decrease_rate)  # 完全無銷售才降價\n",
        "                    else:\n",
        "                        beer_prices[i] *= 1  # 有銷售但未達標，價格維持不變\n",
        "\n",
        "                    # 漲停與跌停控制\n",
        "                    if beer_prices[i] >= initial_price_per_ml * upper_limit:\n",
        "                        beer_prices[i] = initial_price_per_ml * upper_limit  # 漲停價\n",
        "                    elif beer_prices[i] <= initial_price_per_ml * lower_limit:\n",
        "                        beer_prices[i] = initial_price_per_ml * lower_limit  # 跌停價\n",
        "\n",
        "            daily_sales += total_sales\n",
        "            price_history.append(beer_prices.copy())  # 記錄價格變動\n",
        "\n",
        "    return total_revenue, np.array(price_history), total_sales_volume, total_revenue_by_day_and_timeslot"
      ],
      "metadata": {
        "id": "YkhECM1sDXSF"
      },
      "execution_count": null,
      "outputs": []
    },
    {
      "cell_type": "markdown",
      "source": [
        "## Run simulations for dynamic and static pricing\n"
      ],
      "metadata": {
        "id": "gVl_1jBnHWJL"
      }
    },
    {
      "cell_type": "code",
      "source": [
        "# Run simulations for dynamic and static pricing\n",
        "dynamic_results = [run_simulation(dynamic_pricing=True) for _ in range(num_simulations)]\n",
        "static_results = [run_simulation(dynamic_pricing=False) for _ in range(num_simulations)]\n",
        "\n",
        "# Extract revenue, price history, and sales volume\n",
        "dynamic_revenue = [result[0] for result in dynamic_results]\n",
        "static_revenue = [result[0] for result in static_results]\n",
        "price_history = dynamic_results[0][1]  # Take price history from the first simulation\n",
        "total_sales_volume = np.mean([result[2] for result in dynamic_results], axis=0)\n",
        "\n",
        "# Calculate average revenue\n",
        "avg_dynamic_revenue = np.mean(dynamic_revenue)\n",
        "avg_static_revenue = np.mean(static_revenue)"
      ],
      "metadata": {
        "id": "Q7AuL_2aHSVo"
      },
      "execution_count": null,
      "outputs": []
    },
    {
      "cell_type": "markdown",
      "source": [
        "## 每個時段的比較圖"
      ],
      "metadata": {
        "id": "HHdQLxLJBT9A"
      }
    },
    {
      "cell_type": "code",
      "source": [
        "import numpy as np\n",
        "import matplotlib.pyplot as plt\n",
        "\n",
        "# Time slots labels\n",
        "time_slots_labels = ['lunch', 'tea', 'dinner', 'night']\n",
        "\n",
        "# Define the days of the week\n",
        "days_of_week = ['Monday', 'Tuesday', 'Wednesday', 'Thursday', 'Friday', 'Saturday', 'Sunday']\n",
        "\n",
        "def aggregate_revenue_by_timeslot(total_revenue_by_day_and_timeslot):\n",
        "    \"\"\"\n",
        "    Aggregates the revenue data by time slots for each day.\n",
        "    \"\"\"\n",
        "    revenue_by_day_and_timeslot = np.zeros((7, 4))  # 7 days, 4 time slots\n",
        "\n",
        "    # Define time slot boundaries based on intervals (13 hours * 2 intervals)\n",
        "    time_slot_indices = {\n",
        "        'lunch': list(range(0, 6)),  # 11:00-14:00\n",
        "        'tea': list(range(6, 12)),   # 14:00-17:00\n",
        "        'dinner': list(range(12, 18)),  # 17:00-20:00\n",
        "        'night': list(range(18, 26))  # 20:00-24:00\n",
        "    }\n",
        "\n",
        "    for day_idx in range(7):  # Loop through each day\n",
        "        for time_slot, indices in time_slot_indices.items():\n",
        "            time_slot_idx = time_slots_labels.index(time_slot)\n",
        "            revenue_by_day_and_timeslot[day_idx, time_slot_idx] = np.sum(total_revenue_by_day_and_timeslot[day_idx, indices])\n",
        "\n",
        "    return revenue_by_day_and_timeslot\n",
        "\n",
        "# Extract the total revenue per day and per time slot for each simulation\n",
        "dynamic_revenue_by_day_and_timeslot = np.array([result[3] for result in dynamic_results])  # result[3] contains total_revenue_by_day_and_timeslot\n",
        "static_revenue_by_day_and_timeslot = np.array([result[3] for result in static_results])\n",
        "\n",
        "# Aggregate the revenue by time slots\n",
        "dynamic_revenue_aggregated = np.mean([aggregate_revenue_by_timeslot(result) for result in dynamic_revenue_by_day_and_timeslot], axis=0)\n",
        "static_revenue_aggregated = np.mean([aggregate_revenue_by_timeslot(result) for result in static_revenue_by_day_and_timeslot], axis=0)\n",
        "\n",
        "# Create the plots\n",
        "fig, axes = plt.subplots(1, 2, figsize=(14, 6))\n",
        "\n",
        "# Plot for Dynamic Pricing\n",
        "for i, day in enumerate(days_of_week):\n",
        "    axes[0].plot(time_slots_labels, dynamic_revenue_aggregated[i], label=day)\n",
        "axes[0].set_title(\"Dynamic Pricing Strategy\")\n",
        "axes[0].set_xlabel(\"Time Slots\")\n",
        "axes[0].set_ylabel(\"Average Revenue (NTD)\")\n",
        "axes[0].legend(title=\"Days\")\n",
        "\n",
        "# Plot for Static Pricing\n",
        "for i, day in enumerate(days_of_week):\n",
        "    axes[1].plot(time_slots_labels, static_revenue_aggregated[i], label=day)\n",
        "axes[1].set_title(\"Static Pricing Strategy\")\n",
        "axes[1].set_xlabel(\"Time Slots\")\n",
        "axes[1].set_ylabel(\"Average Revenue (NTD)\")\n",
        "axes[1].legend(title=\"Days\")\n",
        "\n",
        "# Display the plots\n",
        "plt.tight_layout()\n",
        "plt.show()"
      ],
      "metadata": {
        "id": "nerpsgIT-pwo"
      },
      "execution_count": null,
      "outputs": []
    },
    {
      "cell_type": "markdown",
      "source": [
        "## Plot comparison"
      ],
      "metadata": {
        "id": "FQzhYWRiHZNj"
      }
    },
    {
      "cell_type": "code",
      "source": [
        "plt.figure(figsize=(10, 6))\n",
        "plt.hist(dynamic_revenue, bins=50, alpha=0.6, label='Dynamic Pricing')\n",
        "plt.hist(static_revenue, bins=50, alpha=0.6, label='Static Pricing')\n",
        "plt.axvline(avg_dynamic_revenue, color='blue', linestyle='dashed', linewidth=2, label=f'Avg Dynamic: {avg_dynamic_revenue:.2f}')\n",
        "plt.axvline(avg_static_revenue, color='orange', linestyle='dashed', linewidth=2, label=f'Avg Static: {avg_static_revenue:.2f}')\n",
        "plt.xlabel('Total Revenue (NTD)')\n",
        "plt.ylabel('Frequency')\n",
        "plt.title('Revenue Comparison: Dynamic vs Static Pricing (10000 Simulations)')\n",
        "plt.legend()\n",
        "plt.show()"
      ],
      "metadata": {
        "id": "Uw_IyiRWHcE6"
      },
      "execution_count": null,
      "outputs": []
    },
    {
      "cell_type": "markdown",
      "source": [
        "## Plot price changes for each beer"
      ],
      "metadata": {
        "id": "CDAbci9FI4tr"
      }
    },
    {
      "cell_type": "code",
      "source": [
        "plt.figure(figsize=(12, 8))\n",
        "for i in range(num_beers):\n",
        "    plt.plot(price_history[:, i], label=f'Beer {i + 1}')\n",
        "plt.xlabel('Slots')\n",
        "plt.ylabel('Price (NTD)')\n",
        "plt.title('Price Changes of Beers Over 7 Days (Dynamic Pricing)')\n",
        "plt.legend(loc='upper right', bbox_to_anchor=(1.15, 1))\n",
        "plt.show()"
      ],
      "metadata": {
        "id": "qOyRB-43I7fy"
      },
      "execution_count": null,
      "outputs": []
    },
    {
      "cell_type": "markdown",
      "source": [
        "## Plot total sales volume per beer"
      ],
      "metadata": {
        "id": "sJVCW4wgI9ah"
      }
    },
    {
      "cell_type": "code",
      "source": [
        "plt.figure(figsize=(10, 6))\n",
        "plt.bar(range(1, num_beers + 1), total_sales_volume)\n",
        "plt.xlabel('Beer Type')\n",
        "plt.ylabel('Total Volume Sold (ml)')\n",
        "plt.title('Total Sales Volume for Each Beer (Dynamic Pricing)')\n",
        "plt.show()"
      ],
      "metadata": {
        "id": "PvNky3_nJETE"
      },
      "execution_count": null,
      "outputs": []
    },
    {
      "cell_type": "code",
      "source": [
        "print(f'Average Dynamic Pricing Revenue: {avg_dynamic_revenue:.2f} NTD')\n",
        "print(f'Average Static Pricing Revenue: {avg_static_revenue:.2f} NTD')\n",
        "print('Total Sales Volume (ml) per Beer:', total_sales_volume)"
      ],
      "metadata": {
        "id": "POdepDw2JGnv"
      },
      "execution_count": null,
      "outputs": []
    },
    {
      "cell_type": "markdown",
      "source": [
        "1. 啤酒種類和定價\n",
        "\t•\t假設有 20 種不同類型的啤酒，每種啤酒的價格設定為每毫升 0.3 NTD。\n",
        "\t•\t初始定價為每毫升 0.3 NTD，並設定了價格調整的閾值和限值（價格上限為 120% 的初始價格，下限為 50% 的初始價格）。\n",
        "\n",
        "2. 營業時間和時間區間\n",
        "\t•\t假設營業時間為 13 小時（從 11:00 到 00:00），並且一天分為 26 個 30 分鐘的時間區間（即 13 小時×2）。\n",
        "\t•\t每個時間區間對應不同的需求乘數，例如午餐時間需求會增加 20%、晚餐時間需求會增加 50%。\n",
        "\n",
        "3. 客戶類型與需求\n",
        "\t•\t假設有三種類型的客戶：忠實顧客、價格敏感顧客（高價）和價格敏感顧客（低價）。\n",
        "\t•\t客戶在不同的時間區間和日子（平日或週末）會有不同的需求。需求量會根據顧客類型和時間區間（如午餐、晚餐、夜間等）進行調整。\n",
        "\n",
        "4. 銷售量與定價策略\n",
        "\t•\t假設每個顧客會購買 250 到 400 毫升的啤酒，並且啤酒的選擇會根據顧客類型來決定。忠實顧客偏好熱門啤酒，而價格敏感顧客則根據啤酒的價格高低做出選擇。\n",
        "\t•\t動態定價：根據銷售量調整價格。如果某種啤酒的銷量超過設定的閾值（500 毫升），則提高價格；如果銷量不足，則降低價格，並且價格必須在設定的上下限範圍內。\n",
        "\t•\t靜態定價：所有啤酒的價格始終保持不變，維持在初始價格。\n",
        "\n",
        "5. 模擬結果\n",
        "\t•\t模擬運行 10,000 次，分別針對動態定價和靜態定價策略進行，並跟踪每個模擬中的總收入、啤酒價格歷史和總銷售量。\n",
        "\t•\t最終，腳本計算並比較了動態定價和靜態定價的平均收入。\n",
        "\n",
        "6. 結果分析\n",
        "\t•\t通過這些假設，模擬結果將顯示動態定價是否能夠帶來比靜態定價更高的總收入，並分析價格調整如何影響啤酒銷售的總量。"
      ],
      "metadata": {
        "id": "cI94VelAKi4_"
      }
    }
  ]
}